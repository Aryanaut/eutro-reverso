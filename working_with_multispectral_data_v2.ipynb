{
 "cells": [
  {
   "cell_type": "code",
   "execution_count": 1,
   "id": "e9e607f5",
   "metadata": {},
   "outputs": [],
   "source": [
    "from osgeo import gdal\n",
    "import numpy as np\n",
    "import sys"
   ]
  },
  {
   "cell_type": "code",
   "execution_count": 2,
   "id": "df2637eb",
   "metadata": {},
   "outputs": [],
   "source": [
    "import arcgis\n",
    "from arcgis.learn import prepare_data, UnetClassifier"
   ]
  },
  {
   "cell_type": "code",
   "execution_count": 3,
   "id": "18508825",
   "metadata": {},
   "outputs": [
    {
     "ename": "Exception",
     "evalue": "Traceback (most recent call last):\n\n  File \"C:\\Users\\aryan\\anaconda3\\envs\\ai\\lib\\site-packages\\arcgis\\learn\\_data.py\", line 24, in <module>\n    from fastai.vision.data import imagenet_stats, ImageList, bb_pad_collate\n\nModuleNotFoundError: No module named 'fastai'\n \n\nDeep learning dependencies are missing. This module requires fastai, PyTorch, torchvision. \n\nPlease install all required dependencies by following the instructions at: \nhttps://developers.arcgis.com/python/guide/install-and-set-up/#Install-deep-learning-dependencies\n",
     "output_type": "error",
     "traceback": [
      "\u001b[1;31m---------------------------------------------------------------------------\u001b[0m",
      "\u001b[1;31mException\u001b[0m                                 Traceback (most recent call last)",
      "\u001b[1;32m~\\AppData\\Local\\Temp/ipykernel_21656/1781676442.py\u001b[0m in \u001b[0;36m<module>\u001b[1;34m\u001b[0m\n\u001b[1;32m----> 1\u001b[1;33m data = prepare_data(\n\u001b[0m\u001b[0;32m      2\u001b[0m     \u001b[1;34mr'C:\\Workspace\\Data\\LULC\\traindata_sentinel2_ms_400px'\u001b[0m\u001b[1;33m,\u001b[0m\u001b[1;33m\u001b[0m\u001b[1;33m\u001b[0m\u001b[0m\n\u001b[0;32m      3\u001b[0m     \u001b[0mbatch_size\u001b[0m\u001b[1;33m=\u001b[0m\u001b[1;36m4\u001b[0m\u001b[1;33m,\u001b[0m\u001b[1;33m\u001b[0m\u001b[1;33m\u001b[0m\u001b[0m\n\u001b[0;32m      4\u001b[0m     \u001b[0mimagery_type\u001b[0m\u001b[1;33m=\u001b[0m\u001b[1;34m'sentinel2'\u001b[0m\u001b[1;33m,\u001b[0m\u001b[1;33m\u001b[0m\u001b[1;33m\u001b[0m\u001b[0m\n\u001b[0;32m      5\u001b[0m     \u001b[0mnorm_pct\u001b[0m\u001b[1;33m=\u001b[0m\u001b[1;36m1\u001b[0m\u001b[1;33m\u001b[0m\u001b[1;33m\u001b[0m\u001b[0m\n",
      "\u001b[1;32m~\\anaconda3\\envs\\ai\\lib\\site-packages\\arcgis\\learn\\_data.py\u001b[0m in \u001b[0;36mprepare_data\u001b[1;34m(path, class_mapping, chip_size, val_split_pct, batch_size, transforms, collate_fn, seed, dataset_type, resize_to, working_dir, **kwargs)\u001b[0m\n\u001b[0;32m   1252\u001b[0m \u001b[1;33m\u001b[0m\u001b[0m\n\u001b[0;32m   1253\u001b[0m     \u001b[1;32mif\u001b[0m \u001b[1;32mnot\u001b[0m \u001b[0mHAS_FASTAI\u001b[0m\u001b[1;33m:\u001b[0m\u001b[1;33m\u001b[0m\u001b[1;33m\u001b[0m\u001b[0m\n\u001b[1;32m-> 1254\u001b[1;33m         \u001b[0m_raise_fastai_import_error\u001b[0m\u001b[1;33m(\u001b[0m\u001b[1;33m)\u001b[0m\u001b[1;33m\u001b[0m\u001b[1;33m\u001b[0m\u001b[0m\n\u001b[0m\u001b[0;32m   1255\u001b[0m \u001b[1;33m\u001b[0m\u001b[0m\n\u001b[0;32m   1256\u001b[0m     \u001b[1;33m(\u001b[0m\u001b[0mfastai\u001b[0m\u001b[1;33m.\u001b[0m\u001b[0mvision\u001b[0m\u001b[1;33m.\u001b[0m\u001b[0mdata\u001b[0m\u001b[1;33m.\u001b[0m\u001b[0mimage_extensions\u001b[0m\u001b[1;33m)\u001b[0m\u001b[1;33m.\u001b[0m\u001b[0madd\u001b[0m\u001b[1;33m(\u001b[0m\u001b[1;34m\".mrf\"\u001b[0m\u001b[1;33m)\u001b[0m\u001b[1;33m\u001b[0m\u001b[1;33m\u001b[0m\u001b[0m\n",
      "\u001b[1;32m~\\anaconda3\\envs\\ai\\lib\\site-packages\\arcgis\\learn\\_data.py\u001b[0m in \u001b[0;36m_raise_fastai_import_error\u001b[1;34m(import_exception)\u001b[0m\n\u001b[0;32m    135\u001b[0m \u001b[1;32mdef\u001b[0m \u001b[0m_raise_fastai_import_error\u001b[0m\u001b[1;33m(\u001b[0m\u001b[0mimport_exception\u001b[0m\u001b[1;33m=\u001b[0m\u001b[0mimport_exception\u001b[0m\u001b[1;33m)\u001b[0m\u001b[1;33m:\u001b[0m\u001b[1;33m\u001b[0m\u001b[1;33m\u001b[0m\u001b[0m\n\u001b[0;32m    136\u001b[0m     \u001b[0minstallation_steps\u001b[0m \u001b[1;33m=\u001b[0m \u001b[0mget_installation_command\u001b[0m\u001b[1;33m(\u001b[0m\u001b[1;33m)\u001b[0m\u001b[1;33m\u001b[0m\u001b[1;33m\u001b[0m\u001b[0m\n\u001b[1;32m--> 137\u001b[1;33m     raise Exception(\n\u001b[0m\u001b[0;32m    138\u001b[0m         \u001b[1;34mf\"{import_exception} \\n\\nDeep learning dependencies are missing. This module requires fastai, \"\u001b[0m\u001b[1;33m\u001b[0m\u001b[1;33m\u001b[0m\u001b[0m\n\u001b[0;32m    139\u001b[0m         \u001b[1;34mf\"PyTorch, torchvision. \"\u001b[0m\u001b[1;33m\u001b[0m\u001b[1;33m\u001b[0m\u001b[0m\n",
      "\u001b[1;31mException\u001b[0m: Traceback (most recent call last):\n\n  File \"C:\\Users\\aryan\\anaconda3\\envs\\ai\\lib\\site-packages\\arcgis\\learn\\_data.py\", line 24, in <module>\n    from fastai.vision.data import imagenet_stats, ImageList, bb_pad_collate\n\nModuleNotFoundError: No module named 'fastai'\n \n\nDeep learning dependencies are missing. This module requires fastai, PyTorch, torchvision. \n\nPlease install all required dependencies by following the instructions at: \nhttps://developers.arcgis.com/python/guide/install-and-set-up/#Install-deep-learning-dependencies\n"
     ]
    }
   ],
   "source": [
    "data = prepare_data(\n",
    "    r'C:\\Workspace\\Data\\LULC\\traindata_sentinel2_ms_400px', \n",
    "    batch_size=4,    \n",
    "    imagery_type='sentinel2',\n",
    "    norm_pct=1\n",
    ")"
   ]
  }
 ],
 "metadata": {
  "kernelspec": {
   "display_name": "Python 3 (ipykernel)",
   "language": "python",
   "name": "python3"
  },
  "language_info": {
   "codemirror_mode": {
    "name": "ipython",
    "version": 3
   },
   "file_extension": ".py",
   "mimetype": "text/x-python",
   "name": "python",
   "nbconvert_exporter": "python",
   "pygments_lexer": "ipython3",
   "version": "3.8.8"
  }
 },
 "nbformat": 4,
 "nbformat_minor": 5
}
